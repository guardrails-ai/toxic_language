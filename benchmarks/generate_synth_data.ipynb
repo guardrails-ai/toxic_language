{
 "cells": [
  {
   "cell_type": "code",
   "execution_count": 6,
   "metadata": {},
   "outputs": [],
   "source": [
    "THOUSAND = 1000"
   ]
  },
  {
   "cell_type": "code",
   "execution_count": 8,
   "metadata": {},
   "outputs": [],
   "source": [
    "from guardrails import Guard\n",
    "\n",
    "content_len = THOUSAND\n",
    "\n",
    "guard = Guard()\n",
    "with open(\"data.csv\", \"w\") as file:\n",
    "    while content_len <= 10000:\n",
    "        content = guard(\n",
    "            model=\"together_ai/databricks/dbrx-instruct\",\n",
    "            messages=[{\n",
    "                \"role\": \"user\",\n",
    "                \"content\": f\"\"\"Write an extremely toxic review about your experience with the construction company that broke your wall.\n",
    "                The answer should be {content_len} characters long\"\"\"\n",
    "            }],\n",
    "            temperature=1,\n",
    "            repetition_penalty=1,\n",
    "        ).raw_llm_output\n",
    "\n",
    "        content = content.replace(\"\\n\", \" \")\n",
    "        file.write(content + \"\\n\")\n",
    "        content_len += THOUSAND\n",
    "    file.close()\n"
   ]
  }
 ],
 "metadata": {
  "kernelspec": {
   "display_name": ".venv",
   "language": "python",
   "name": "python3"
  },
  "language_info": {
   "codemirror_mode": {
    "name": "ipython",
    "version": 3
   },
   "file_extension": ".py",
   "mimetype": "text/x-python",
   "name": "python",
   "nbconvert_exporter": "python",
   "pygments_lexer": "ipython3",
   "version": "3.11.7"
  }
 },
 "nbformat": 4,
 "nbformat_minor": 2
}
